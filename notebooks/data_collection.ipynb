{
 "cells": [
  {
   "cell_type": "markdown",
   "metadata": {},
   "source": [
    "カメラ画像の取得"
   ]
  },
  {
   "cell_type": "code",
   "execution_count": 1,
   "metadata": {},
   "outputs": [
    {
     "data": {
      "application/vnd.jupyter.widget-view+json": {
       "model_id": "edb1d071bd004672bebbe5b47c8fe128",
       "version_major": 2,
       "version_minor": 0
      },
      "text/plain": [
       "Image(value=b'\\xff\\xd8\\xff\\xe0\\x00\\x10JFIF\\x00\\x01\\x01\\x00\\x00\\x01\\x00\\x01\\x00\\x00\\xff\\xdb\\x00C\\x00\\x02\\x01\\x0…"
      ]
     },
     "metadata": {},
     "output_type": "display_data"
    }
   ],
   "source": [
    "from jetcam.csi_camera import CSICamera\n",
    "import ipywidgets\n",
    "from IPython.display import display\n",
    "from jetcam.utils import bgr8_to_jpeg\n",
    "\n",
    "camera = CSICamera(width=224, height=224)\n",
    "image = camera.read()\n",
    "image_widget = ipywidgets.Image(format='jpeg')\n",
    "image_widget.value = bgr8_to_jpeg(image)\n",
    "display(image_widget)"
   ]
  },
  {
   "cell_type": "markdown",
   "metadata": {},
   "source": [
    "カメラ画像の更新"
   ]
  },
  {
   "cell_type": "code",
   "execution_count": 2,
   "metadata": {},
   "outputs": [],
   "source": [
    "camera.running = True\n",
    "\n",
    "def update_image(change):\n",
    "    image = change['new']\n",
    "    image_widget.value = bgr8_to_jpeg(image)\n",
    "    \n",
    "camera.observe(update_image, names='value')"
   ]
  },
  {
   "cell_type": "markdown",
   "metadata": {},
   "source": [
    "Datasetフォルダの作成"
   ]
  },
  {
   "cell_type": "code",
   "execution_count": 4,
   "metadata": {},
   "outputs": [],
   "source": [
    "import os\n",
    "\n",
    "one_dir = 'dataset/one'\n",
    "two_dir = 'dataset/two'\n",
    "three_dir = 'dataset/three'\n",
    "\n",
    "# we have this \"try/except\" statement because these next functions can throw an error if the directories exist already\n",
    "try:\n",
    "    os.makedirs(one_dir)\n",
    "    os.makedirs(two_dir)\n",
    "    os.makedirs(three_dir)\n",
    "except FileExistsError:\n",
    "    print('Directories not created becasue they already exist')"
   ]
  },
  {
   "cell_type": "markdown",
   "metadata": {},
   "source": [
    "登録ボタンの作成"
   ]
  },
  {
   "cell_type": "code",
   "execution_count": 7,
   "metadata": {},
   "outputs": [
    {
     "data": {
      "application/vnd.jupyter.widget-view+json": {
       "model_id": "789c888686f748fd87f8331c4a73da59",
       "version_major": 2,
       "version_minor": 0
      },
      "text/plain": [
       "HBox(children=(IntText(value=0, layout=Layout(height='64px', width='128px')), Button(description='oneを追加', lay…"
      ]
     },
     "metadata": {},
     "output_type": "display_data"
    },
    {
     "data": {
      "application/vnd.jupyter.widget-view+json": {
       "model_id": "1b9b99915a7c463ca82303aaf5ba6daa",
       "version_major": 2,
       "version_minor": 0
      },
      "text/plain": [
       "HBox(children=(IntText(value=0, layout=Layout(height='64px', width='128px')), Button(description='twoを追加', lay…"
      ]
     },
     "metadata": {},
     "output_type": "display_data"
    },
    {
     "data": {
      "application/vnd.jupyter.widget-view+json": {
       "model_id": "fc7deeb7103d4aa9a43e953cd888a421",
       "version_major": 2,
       "version_minor": 0
      },
      "text/plain": [
       "HBox(children=(IntText(value=0, layout=Layout(height='64px', width='128px')), Button(description='threeを追加', l…"
      ]
     },
     "metadata": {},
     "output_type": "display_data"
    }
   ],
   "source": [
    "import ipywidgets.widgets as widgets\n",
    "\n",
    "button_layout = widgets.Layout(width='128px', height='64px')\n",
    "one_button = widgets.Button(description='oneを追加', layout=button_layout)\n",
    "two_button = widgets.Button(description='twoを追加', layout=button_layout)\n",
    "three_button = widgets.Button(description='threeを追加', layout=button_layout)\n",
    "one_count = widgets.IntText(layout=button_layout, value=len(os.listdir(one_dir)))\n",
    "two_count = widgets.IntText(layout=button_layout, value=len(os.listdir(two_dir)))\n",
    "three_count = widgets.IntText(layout=button_layout, value=len(os.listdir(three_dir)))\n",
    "\n",
    "display(widgets.HBox([one_count, one_button]))\n",
    "display(widgets.HBox([two_count, two_button]))\n",
    "display(widgets.HBox([three_count, three_button]))"
   ]
  },
  {
   "cell_type": "markdown",
   "metadata": {},
   "source": [
    "ボタンが押されたら画像を撮影して保存"
   ]
  },
  {
   "cell_type": "code",
   "execution_count": 11,
   "metadata": {},
   "outputs": [],
   "source": [
    "from uuid import uuid1\n",
    "\n",
    "def save_snapshot(directory):\n",
    "    image_path = os.path.join(directory, str(uuid1()) + '.jpg')\n",
    "    with open(image_path, 'wb') as f:\n",
    "        f.write(image_widget.value)\n",
    "\n",
    "def save_one():\n",
    "    global one_dir, one_count\n",
    "    save_snapshot(one_dir)\n",
    "    one_count.value = len(os.listdir(one_dir))\n",
    "    \n",
    "def save_two():\n",
    "    global two_dir, two_count\n",
    "    save_snapshot(two_dir)\n",
    "    two_count.value = len(os.listdir(two_dir))\n",
    "    \n",
    "def save_three():\n",
    "    global three_dir, three_count\n",
    "    save_snapshot(three_dir)\n",
    "    three_count.value = len(os.listdir(three_dir))\n",
    "    \n",
    "# attach the callbacks, we use a 'lambda' function to ignore the\n",
    "# parameter that the on_click event would provide to our function\n",
    "# because we don't need it.\n",
    "one_button.on_click(lambda x: save_one())\n",
    "two_button.on_click(lambda x: save_two())\n",
    "three_button.on_click(lambda x: save_three())"
   ]
  },
  {
   "cell_type": "markdown",
   "metadata": {},
   "source": [
    "まとめて表示"
   ]
  },
  {
   "cell_type": "code",
   "execution_count": null,
   "metadata": {},
   "outputs": [],
   "source": [
    "display(image)\n",
    "display(widgets.HBox([one_count, one_button]))\n",
    "display(widgets.HBox([two_count, two_button]))\n",
    "display(widgets.HBox([three_count, three_button]))"
   ]
  }
 ],
 "metadata": {
  "kernelspec": {
   "display_name": "Python 3",
   "language": "python",
   "name": "python3"
  },
  "language_info": {
   "codemirror_mode": {
    "name": "ipython",
    "version": 3
   },
   "file_extension": ".py",
   "mimetype": "text/x-python",
   "name": "python",
   "nbconvert_exporter": "python",
   "pygments_lexer": "ipython3",
   "version": "3.6.7"
  }
 },
 "nbformat": 4,
 "nbformat_minor": 2
}
